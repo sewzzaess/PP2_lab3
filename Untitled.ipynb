{
 "cells": [
  {
   "cell_type": "markdown",
   "id": "93be4337-2721-46e7-a2f4-3987ed3c61d1",
   "metadata": {},
   "source": [
    "Task 1: Class with string methods"
   ]
  },
  {
   "cell_type": "code",
   "execution_count": 5,
   "id": "c9933246-e378-487f-be12-80a55b5c687e",
   "metadata": {},
   "outputs": [
    {
     "name": "stdin",
     "output_type": "stream",
     "text": [
      "enter a string:  we did it\n"
     ]
    },
    {
     "name": "stdout",
     "output_type": "stream",
     "text": [
      "WE DID IT\n"
     ]
    }
   ],
   "source": [
    "class S:\n",
    "    def __init__(self):\n",
    "        self.string = \"\"\n",
    "\n",
    "    def getString(self):\n",
    "        self.string = input(\"enter a string: \")\n",
    "\n",
    "    def printString(self):\n",
    "        print(self.string.upper())\n",
    "\n",
    "sentence = S()\n",
    "sentence.getString()\n",
    "sentence.printString()"
   ]
  },
  {
   "cell_type": "markdown",
   "id": "e087c013-c75f-4c05-8540-735e64c5a52a",
   "metadata": {},
   "source": [
    "Task 2: Class Shape and subclass Square"
   ]
  },
  {
   "cell_type": "code",
   "execution_count": 29,
   "id": "1a96a6f0-00cf-4374-b027-10732b30263f",
   "metadata": {},
   "outputs": [
    {
     "name": "stdin",
     "output_type": "stream",
     "text": [
      "Length:  5\n"
     ]
    },
    {
     "name": "stdout",
     "output_type": "stream",
     "text": [
      "Area:  25\n"
     ]
    }
   ],
   "source": [
    "class Shape: \n",
    "    def area(self):\n",
    "        return 0\n",
    "\n",
    "class Square(Shape):\n",
    "    def __init__(self, length):\n",
    "        self.length = length\n",
    "\n",
    "    def area(self):\n",
    "        return self.length **2\n",
    "\n",
    "length = int(input(\"Length: \"))\n",
    "square = Square(length)\n",
    "print(\"Area: \", square.area())"
   ]
  },
  {
   "cell_type": "markdown",
   "id": "2fa3b038-d6a3-4e4d-93b9-0ec2ff141f17",
   "metadata": {},
   "source": [
    "Task 3: Class Shape and subclass Rectangle\n"
   ]
  },
  {
   "cell_type": "code",
   "execution_count": 7,
   "id": "a2bce0a0-82e0-4c26-89dc-5382300eab95",
   "metadata": {},
   "outputs": [
    {
     "name": "stdin",
     "output_type": "stream",
     "text": [
      "Length:  5\n",
      "Width:   2\n"
     ]
    },
    {
     "name": "stdout",
     "output_type": "stream",
     "text": [
      "Area:  10\n"
     ]
    }
   ],
   "source": [
    "class Shape: \n",
    "    def area(self):\n",
    "        return 0\n",
    "\n",
    "class Rectangle(Shape):\n",
    "    def __init__(self, length, width):\n",
    "        self.length = length\n",
    "        self.width = width\n",
    "\n",
    "    def area(self):\n",
    "        return self.length * self.width\n",
    "\n",
    "length = int(input(\"Length: \"))\n",
    "width = int(input(\"Width:  \"))\n",
    "rect = Rectangle(length, width)\n",
    "print(\"Area: \", rect.area())"
   ]
  },
  {
   "cell_type": "markdown",
   "id": "7ced636b-d9cc-4e9c-8c09-1d6481bcc082",
   "metadata": {},
   "source": [
    "Task 4: Class Point "
   ]
  },
  {
   "cell_type": "code",
   "execution_count": 1,
   "id": "4fba00a1-2682-4760-8f81-c013780aa2f5",
   "metadata": {},
   "outputs": [
    {
     "name": "stdin",
     "output_type": "stream",
     "text": [
      "Enter X:  1\n",
      "Enter Y:  1\n"
     ]
    },
    {
     "name": "stdout",
     "output_type": "stream",
     "text": [
      "Point: (1, 1)\n"
     ]
    },
    {
     "name": "stdin",
     "output_type": "stream",
     "text": [
      "Enter new X:  3\n",
      "Enter new Y:  1\n"
     ]
    },
    {
     "name": "stdout",
     "output_type": "stream",
     "text": [
      "Point: (3, 1)\n",
      "The distance between the old position and the new position: 2\n"
     ]
    }
   ],
   "source": [
    "class Point:\n",
    "    def __init__(self, x, y):\n",
    "        self.x = x\n",
    "        self.y = y\n",
    "\n",
    "    def show(self):\n",
    "        print(f\"Point: ({self.x}, {self.y})\")\n",
    "\n",
    "    def move(self):\n",
    "        new_x = int(input(\"Enter new X: \"))\n",
    "        new_y = int(input(\"Enter new Y: \"))\n",
    "        old_x, old_y = self.x, self.y \n",
    "        self.x, self.y = new_x, new_y\n",
    "        return Point(old_x, old_y)  \n",
    "        \n",
    "    def dist(self, other_point):\n",
    "        return abs(self.x - other_point.x) + abs(self.y - other_point.y)\n",
    "\n",
    "x = int(input(\"Enter X: \"))\n",
    "y = int(input(\"Enter Y: \"))\n",
    "\n",
    "p1 = Point(x, y)  \n",
    "p1.show()\n",
    "\n",
    "old_p1 = p1.move()  \n",
    "p1.show()\n",
    "\n",
    "print(\"The distance between the old position and the new position:\", old_p1.dist(p1))\n"
   ]
  },
  {
   "cell_type": "markdown",
   "id": "225aa32e-a3ef-42f2-9b04-f10d2ef9685d",
   "metadata": {},
   "source": [
    "Task 5: Account"
   ]
  },
  {
   "cell_type": "code",
   "execution_count": 19,
   "id": "49dd7b1e-b3b7-49b3-a634-d95363801d17",
   "metadata": {},
   "outputs": [
    {
     "name": "stdin",
     "output_type": "stream",
     "text": [
      "Enter account owner name:  Salta\n",
      "Enter initial balance:  100000\n",
      "Enter deposit amount:  10000\n"
     ]
    },
    {
     "name": "stdout",
     "output_type": "stream",
     "text": [
      "Deposit: 10000.0. New balance: 110000.0\n"
     ]
    },
    {
     "name": "stdin",
     "output_type": "stream",
     "text": [
      "Enter withdrawal amount:  25000\n"
     ]
    },
    {
     "name": "stdout",
     "output_type": "stream",
     "text": [
      "Withdrawal: 25000.0. New balance: 85000.0\n"
     ]
    }
   ],
   "source": [
    "class Account:\n",
    "    def __init__(self):\n",
    "        self.owner = input(\"Enter account owner name: \")\n",
    "        self.balance = float(input(\"Enter initial balance: \"))\n",
    "\n",
    "    def deposit(self, amount):\n",
    "        self.balance += amount\n",
    "        print(f\"Deposit: {amount}. New balance: {self.balance}\")\n",
    "\n",
    "    def withdraw(self, amount):\n",
    "        if amount > self.balance:\n",
    "            print(\"Insufficient funds.\")\n",
    "        else:\n",
    "            self.balance -= amount\n",
    "            print(f\"Withdrawal: {amount}. New balance: {self.balance}\")\n",
    "\n",
    "\n",
    "acc = Account()\n",
    "\n",
    "acc.deposit(float(input(\"Enter deposit amount: \")))\n",
    "acc.withdraw(float(input(\"Enter withdrawal amount: \")))\n"
   ]
  },
  {
   "cell_type": "markdown",
   "id": "22f689d6-00a4-49fb-b06b-fb3c61762a8b",
   "metadata": {},
   "source": [
    "Task 6: Prime Numbers Filter"
   ]
  },
  {
   "cell_type": "code",
   "execution_count": 21,
   "id": "72739099-e29c-4a26-9501-e0826f5cad12",
   "metadata": {},
   "outputs": [
    {
     "name": "stdin",
     "output_type": "stream",
     "text": [
      "Enter numbers separated by spaces:  5 8 7 13 25 69 52 17 61\n"
     ]
    },
    {
     "name": "stdout",
     "output_type": "stream",
     "text": [
      "Prime numbers: [5, 7, 13, 17, 61]\n"
     ]
    }
   ],
   "source": [
    "is_prime = lambda x: x > 1 and all(x % i != 0 for i in range(2, int(x**0.5) + 1))\n",
    "\n",
    "nums = list(map(int, input(\"Enter numbers separated by spaces: \").split()))\n",
    "\n",
    "prime_nums = list(filter(is_prime, nums))\n",
    "\n",
    "print(\"Prime numbers:\", prime_nums)\n"
   ]
  }
 ],
 "metadata": {
  "kernelspec": {
   "display_name": "Python [conda env:base] *",
   "language": "python",
   "name": "conda-base-py"
  },
  "language_info": {
   "codemirror_mode": {
    "name": "ipython",
    "version": 3
   },
   "file_extension": ".py",
   "mimetype": "text/x-python",
   "name": "python",
   "nbconvert_exporter": "python",
   "pygments_lexer": "ipython3",
   "version": "3.12.7"
  }
 },
 "nbformat": 4,
 "nbformat_minor": 5
}
