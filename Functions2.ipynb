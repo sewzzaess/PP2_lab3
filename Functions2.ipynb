{
 "cells": [
  {
   "cell_type": "markdown",
   "id": "056b7f1c-c6ca-417f-9298-9f7c20011659",
   "metadata": {},
   "source": [
    "Movies"
   ]
  },
  {
   "cell_type": "code",
   "execution_count": 25,
   "id": "a748303b-5a86-400a-a302-3e6f035530f3",
   "metadata": {},
   "outputs": [],
   "source": [
    "movies = [\n",
    "    {\"name\": \"Usual Suspects\", \"imdb\": 7.0, \"category\": \"Thriller\"},\n",
    "    {\"name\": \"Hitman\", \"imdb\": 6.3, \"category\": \"Action\"},\n",
    "    {\"name\": \"Dark Knight\", \"imdb\": 9.0, \"category\": \"Adventure\"},\n",
    "    {\"name\": \"The Help\", \"imdb\": 8.0, \"category\": \"Drama\"},\n",
    "    {\"name\": \"The Choice\", \"imdb\": 6.2, \"category\": \"Romance\"},\n",
    "    {\"name\": \"Colonia\", \"imdb\": 7.4, \"category\": \"Romance\"},\n",
    "    {\"name\": \"Love\", \"imdb\": 6.0, \"category\": \"Romance\"},\n",
    "    {\"name\": \"Bride Wars\", \"imdb\": 5.4, \"category\": \"Romance\"},\n",
    "    {\"name\": \"AlphaJet\", \"imdb\": 3.2, \"category\": \"War\"},\n",
    "    {\"name\": \"Ringing Crime\", \"imdb\": 4.0, \"category\": \"Crime\"},\n",
    "    {\"name\": \"Joking muck\", \"imdb\": 7.2, \"category\": \"Comedy\"},\n",
    "    {\"name\": \"What is the name\", \"imdb\": 9.2, \"category\": \"Suspense\"},\n",
    "    {\"name\": \"Detective\", \"imdb\": 7.0, \"category\": \"Suspense\"},\n",
    "    {\"name\": \"Exam\", \"imdb\": 4.2, \"category\": \"Thriller\"},\n",
    "    {\"name\": \"We Two\", \"imdb\": 7.2, \"category\": \"Romance\"}\n",
    "]"
   ]
  },
  {
   "cell_type": "markdown",
   "id": "39a22000-5c0b-4246-9bde-00f48efb0e3c",
   "metadata": {},
   "source": [
    "1: check if IMDB score is above 5.5"
   ]
  },
  {
   "cell_type": "code",
   "execution_count": 72,
   "id": "025d587c-9e34-446a-858f-b8e7823f646d",
   "metadata": {},
   "outputs": [],
   "source": [
    "def good(movie):\n",
    "    return movie[\"imdb\"] > 5.5"
   ]
  },
  {
   "cell_type": "markdown",
   "id": "163182c7-0cbc-4c87-b267-9f03112aa0ae",
   "metadata": {},
   "source": [
    "2: filter movies with an IMDB Score Above 5.5"
   ]
  },
  {
   "cell_type": "code",
   "execution_count": 70,
   "id": "249a7bcc-f77b-4da8-8503-c9f66b6903e0",
   "metadata": {},
   "outputs": [],
   "source": [
    "def filter_good(movies):\n",
    "    return [movie for movie in movies if movie[\"imdb\"] > 5.5]"
   ]
  },
  {
   "cell_type": "markdown",
   "id": "fb2b0974-0ebd-4c48-8b18-f5159fde7e22",
   "metadata": {},
   "source": [
    "3: filter movies by category"
   ]
  },
  {
   "cell_type": "code",
   "execution_count": 115,
   "id": "328be43f-4efb-4e97-862d-d70cb8421d5a",
   "metadata": {},
   "outputs": [],
   "source": [
    "def category_filter(movies, category):\n",
    "    return [movie for movie in movies if movie[\"category\"].lower() == category.lower()]"
   ]
  },
  {
   "cell_type": "markdown",
   "id": "66f1419d-13a9-4108-9a6a-2e21047ac862",
   "metadata": {},
   "source": [
    "4: compute the average IMDB score for all movies"
   ]
  },
  {
   "cell_type": "code",
   "execution_count": 101,
   "id": "931b57ab-2b15-4266-bee9-6b4935b6ad0e",
   "metadata": {},
   "outputs": [],
   "source": [
    "def average_imdb(movies):\n",
    "    total_score = sum(movie[\"imdb\"] for movie in movies)\n",
    "    return total_score / len(movies)"
   ]
  },
  {
   "cell_type": "markdown",
   "id": "a4255387-09bf-4d06-9c43-0a350cb393f3",
   "metadata": {},
   "source": [
    "5: compute the average IMDB score for categoriess"
   ]
  },
  {
   "cell_type": "code",
   "execution_count": 129,
   "id": "46afbddc-c959-4148-b039-0ee3c775436e",
   "metadata": {},
   "outputs": [],
   "source": [
    "def average_imdb_by_category(movies, category):\n",
    "    category_movies = category_filter(movies, category)\n",
    "    return average_imdb(category_movies)"
   ]
  },
  {
   "cell_type": "markdown",
   "id": "507c9f53-0aaa-4538-bc06-c78e8f7f1f13",
   "metadata": {},
   "source": [
    "result:"
   ]
  },
  {
   "cell_type": "code",
   "execution_count": null,
   "id": "1562d745-f7d0-4bcc-ab30-1cc023683dd6",
   "metadata": {},
   "outputs": [],
   "source": []
  },
  {
   "cell_type": "code",
   "execution_count": 133,
   "id": "7c6a9afa-a044-4a52-8936-fafd369fe9dc",
   "metadata": {},
   "outputs": [
    {
     "name": "stdout",
     "output_type": "stream",
     "text": [
      "Movies with IMDB above 5.5:\n",
      "Usual Suspects 7.0\n",
      "Hitman 6.3\n",
      "Dark Knight 9.0\n",
      "The Help 8.0\n",
      "The Choice 6.2\n",
      "Colonia 7.4\n",
      "Love 6.0\n",
      "Joking muck 7.2\n",
      "What is the name 9.2\n",
      "Detective 7.0\n",
      "We Two 7.2\n"
     ]
    },
    {
     "name": "stdin",
     "output_type": "stream",
     "text": [
      "\n",
      "enter a category:  romance\n"
     ]
    },
    {
     "name": "stdout",
     "output_type": "stream",
     "text": [
      "\n",
      "movies in the 'romance' category:\n",
      "The Choice 6.2\n",
      "Colonia 7.4\n",
      "Love 6.0\n",
      "Bride Wars 5.4\n",
      "We Two 7.2\n",
      "\n",
      "average IMDB score of 'romance' movies: 6.44\n"
     ]
    }
   ],
   "source": [
    "print(\"Movies with IMDB above 5.5:\")\n",
    "good = filter_good(movies)\n",
    "for movie in good:\n",
    "    print(movie[\"name\"], movie[\"imdb\"])\n",
    "    \n",
    "category_input = input(\"\\nenter a category: \").lower().strip()\n",
    "\n",
    "print(f\"\\nmovies in the '{category_input}' category:\")\n",
    "category_movies = category_filter(movies, category_input)\n",
    "for movie in category_movies:\n",
    "    print(movie[\"name\"], movie[\"imdb\"])\n",
    "\n",
    "print(f\"\\naverage IMDB score of '{category_input}' movies:\", average_imdb_by_category(movies, category_input))\n"
   ]
  },
  {
   "cell_type": "code",
   "execution_count": null,
   "id": "9b2a6256-2bf7-44ee-b7e6-094b6503cee9",
   "metadata": {},
   "outputs": [],
   "source": []
  }
 ],
 "metadata": {
  "kernelspec": {
   "display_name": "Python [conda env:base] *",
   "language": "python",
   "name": "conda-base-py"
  },
  "language_info": {
   "codemirror_mode": {
    "name": "ipython",
    "version": 3
   },
   "file_extension": ".py",
   "mimetype": "text/x-python",
   "name": "python",
   "nbconvert_exporter": "python",
   "pygments_lexer": "ipython3",
   "version": "3.12.7"
  }
 },
 "nbformat": 4,
 "nbformat_minor": 5
}
