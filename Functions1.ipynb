{
 "cells": [
  {
   "cell_type": "markdown",
   "id": "f534de7b-318e-4ea2-a901-3ee61f83dc01",
   "metadata": {},
   "source": [
    "f 1: grams to ounces"
   ]
  },
  {
   "cell_type": "code",
   "execution_count": 1,
   "id": "8fe9d238-b420-429b-884f-e3a3aa1606eb",
   "metadata": {},
   "outputs": [
    {
     "name": "stdin",
     "output_type": "stream",
     "text": [
      "enter the number of grams:  99\n"
     ]
    },
    {
     "name": "stdout",
     "output_type": "stream",
     "text": [
      "99.0 grams = 3.49\n"
     ]
    }
   ],
   "source": [
    "def grams_to_ounces():\n",
    "    grams = float(input(\"enter the number of grams: \"))\n",
    "    ounces = grams * 0.03527396\n",
    "    print(f\"{grams} grams = {ounces:.2f}\")\n",
    "grams_to_ounces()"
   ]
  },
  {
   "cell_type": "markdown",
   "id": "2782a19f-3ea4-47d8-9f24-104a464322ea",
   "metadata": {},
   "source": [
    "f 2: convert fahrenheit to celcius"
   ]
  },
  {
   "cell_type": "code",
   "execution_count": 7,
   "id": "7b030be9-c6a0-43fd-89ef-a546f70f2e7e",
   "metadata": {},
   "outputs": [
    {
     "name": "stdin",
     "output_type": "stream",
     "text": [
      "Enter temperature in Fahrenheit:  99\n"
     ]
    },
    {
     "name": "stdout",
     "output_type": "stream",
     "text": [
      "99.0°F = 37.22°C\n"
     ]
    }
   ],
   "source": [
    "def convert():\n",
    "    f = float(input(\"Enter temperature in Fahrenheit: \"))\n",
    "    c = (5 / 9) * (f - 32)\n",
    "    print(f\"{f}°F = {c:.2f}°C\")\n",
    "\n",
    "convert()"
   ]
  },
  {
   "cell_type": "markdown",
   "id": "f96c1077-4ed4-43eb-9c6a-e5ce02c6decb",
   "metadata": {},
   "source": [
    "f3 : chickens and rabbits"
   ]
  },
  {
   "cell_type": "code",
   "execution_count": 9,
   "id": "466c6f7d-a7f1-48a3-98ed-5ee8008823a1",
   "metadata": {},
   "outputs": [
    {
     "name": "stdin",
     "output_type": "stream",
     "text": [
      "Heads:  5\n",
      "Legs:  12\n"
     ]
    },
    {
     "name": "stdout",
     "output_type": "stream",
     "text": [
      "chickens: 4, rabbits: 1\n"
     ]
    }
   ],
   "source": [
    "def solve(num_heads, num_legs):\n",
    "    for chickens in range(num_heads + 1):\n",
    "        rabbits = num_heads - chickens\n",
    "        if 2 * chickens + 4 * rabbits == num_legs:\n",
    "            print(f\"chickens: {chickens}, rabbits: {rabbits}\")\n",
    "            return\n",
    "    print(\"No solution found\")\n",
    "\n",
    "x = int(input(\"Heads: \"))\n",
    "y = int(input(\"Legs: \"))\n",
    "solve(x,y)\n"
   ]
  },
  {
   "cell_type": "markdown",
   "id": "448b06d3-227f-4450-9325-9315c6c79cd6",
   "metadata": {},
   "source": [
    "f4: filter prime numbers"
   ]
  },
  {
   "cell_type": "code",
   "execution_count": 11,
   "id": "912ff299-8b0d-4ff6-9d7d-263a5ff798e5",
   "metadata": {},
   "outputs": [
    {
     "name": "stdin",
     "output_type": "stream",
     "text": [
      "enter numbers separated by space:  2 5 89 61 35 47 \n"
     ]
    },
    {
     "name": "stdout",
     "output_type": "stream",
     "text": [
      "prime numbers: [2, 5, 89, 61, 47]\n"
     ]
    }
   ],
   "source": [
    "def is_prime(n):\n",
    "    if n < 2:\n",
    "        return False\n",
    "    for i in range(2, int(n ** 0.5) + 1):\n",
    "        if n % i == 0:\n",
    "            return False\n",
    "    return True\n",
    "\n",
    "def filter_prime():\n",
    "    numbers = list(map(int, input(\"enter numbers separated by space: \").split()))\n",
    "    primes = [num for num in numbers if is_prime(num)]\n",
    "    print(\"prime numbers:\", primes)\n",
    "\n",
    "filter_prime()"
   ]
  },
  {
   "cell_type": "markdown",
   "id": "92ab3e5f-02a4-4f16-8fae-faa9802dfc03",
   "metadata": {},
   "source": [
    "f5: string permutations"
   ]
  },
  {
   "cell_type": "code",
   "execution_count": 5,
   "id": "377887b1-ebdf-4043-bd5c-637b0e7c7e41",
   "metadata": {},
   "outputs": [
    {
     "name": "stdin",
     "output_type": "stream",
     "text": [
      "Enter a string:  kbtu\n"
     ]
    },
    {
     "name": "stdout",
     "output_type": "stream",
     "text": [
      "Permutations: ['kbtu', 'kbut', 'ktbu', 'ktub', 'kubt', 'kutb', 'bktu', 'bkut', 'btku', 'btuk', 'bukt', 'butk', 'tkbu', 'tkub', 'tbku', 'tbuk', 'tukb', 'tubk', 'ukbt', 'uktb', 'ubkt', 'ubtk', 'utkb', 'utbk']\n"
     ]
    }
   ],
   "source": [
    "from itertools import permutations  \n",
    "def string_permutations():\n",
    "    s = input(\"Enter a string: \")\n",
    "    perms = [''.join(p) for p in permutations(s)]\n",
    "    print(\"Permutations:\", perms)\n",
    "\n",
    "string_permutations()\n"
   ]
  },
  {
   "cell_type": "markdown",
   "id": "eccd0bd1-7300-475f-aed1-7520618a66ba",
   "metadata": {},
   "source": [
    "f6: reverse words"
   ]
  },
  {
   "cell_type": "code",
   "execution_count": 13,
   "id": "b5422bc3-fdd8-44dd-a2fc-f13ebcbdb55f",
   "metadata": {},
   "outputs": [
    {
     "name": "stdin",
     "output_type": "stream",
     "text": [
      "Enter a sentence:  thank you all for coming\n"
     ]
    },
    {
     "name": "stdout",
     "output_type": "stream",
     "text": [
      "Reversed sentence: coming for all you thank\n"
     ]
    }
   ],
   "source": [
    "def reverse_words():\n",
    "    sentence = input(\"Enter a sentence: \")\n",
    "    reversed_sentence = ' '.join(sentence.split()[::-1])\n",
    "    print(\"Reversed sentence:\", reversed_sentence)\n",
    "\n",
    "reverse_words()"
   ]
  },
  {
   "cell_type": "markdown",
   "id": "04ccb48a-c017-471b-a793-958083380cd3",
   "metadata": {},
   "source": [
    "f7: check if list contains 33"
   ]
  },
  {
   "cell_type": "code",
   "execution_count": 15,
   "id": "d30a72e2-ebce-44a0-b5a6-483d281190be",
   "metadata": {},
   "outputs": [
    {
     "name": "stdin",
     "output_type": "stream",
     "text": [
      "enter numbers:  3 3 1 2 5\n"
     ]
    },
    {
     "name": "stdout",
     "output_type": "stream",
     "text": [
      "True\n"
     ]
    },
    {
     "name": "stdin",
     "output_type": "stream",
     "text": [
      "enter numbers:  2 1 3 1 3 \n"
     ]
    },
    {
     "name": "stdout",
     "output_type": "stream",
     "text": [
      "False\n"
     ]
    }
   ],
   "source": [
    "def has_33(nums):\n",
    "    for i in range(len(nums) - 1):\n",
    "        if nums[i] == 3 and nums[i + 1] == 3:\n",
    "            return True\n",
    "    return False\n",
    "\n",
    "x = list(map(int, input(\"enter numbers: \").split()))\n",
    "print(has_33(x))\n",
    "y = list(map(int, input(\"enter numbers: \").split()))\n",
    "print(has_33(y))"
   ]
  },
  {
   "cell_type": "markdown",
   "id": "0eed38e4-bbca-4928-9a21-7420f7ad8b5c",
   "metadata": {},
   "source": [
    "f8: check if there is 007"
   ]
  },
  {
   "cell_type": "code",
   "execution_count": 17,
   "id": "f34c7b52-4b8d-43f1-a664-c4c74825d3ef",
   "metadata": {},
   "outputs": [
    {
     "name": "stdin",
     "output_type": "stream",
     "text": [
      "enter numbers:  0 0 7 0 0 5 2 5\n"
     ]
    },
    {
     "name": "stdout",
     "output_type": "stream",
     "text": [
      "True\n"
     ]
    }
   ],
   "source": [
    "def spy_game(nums):\n",
    "    code = [0, 0, 7]\n",
    "    for num in nums:\n",
    "        if num == code[0]:\n",
    "            code.pop(0)\n",
    "        if not code:\n",
    "            return True\n",
    "    return False\n",
    "\n",
    "x = list(map(int, input(\"enter numbers: \").split()))\n",
    "print(spy_game(x))"
   ]
  },
  {
   "cell_type": "markdown",
   "id": "b412eb57-50c9-42e6-8f7c-65b9cbcd5661",
   "metadata": {},
   "source": [
    "f9: volume of a sphere"
   ]
  },
  {
   "cell_type": "code",
   "execution_count": 19,
   "id": "70f4cb5c-6ed6-4822-988e-445d4c3b113a",
   "metadata": {},
   "outputs": [
    {
     "name": "stdin",
     "output_type": "stream",
     "text": [
      "Enter the radius of the sphere:  5\n"
     ]
    },
    {
     "name": "stdout",
     "output_type": "stream",
     "text": [
      "Volume of the sphere: 523.60\n"
     ]
    }
   ],
   "source": [
    "import math\n",
    "\n",
    "def sphere_volume():\n",
    "    r = float(input(\"Enter the radius of the sphere: \"))\n",
    "    volume = (4 / 3) * math.pi * (r ** 3)\n",
    "    print(f\"Volume of the sphere: {volume:.2f}\")\n",
    "\n",
    "sphere_volume()"
   ]
  },
  {
   "cell_type": "markdown",
   "id": "e37fca37-8faa-4685-aba9-a95ac6ef6d83",
   "metadata": {},
   "source": [
    "f10: unique elements\n"
   ]
  },
  {
   "cell_type": "code",
   "execution_count": 21,
   "id": "58f42035-b8d1-4d66-8d43-0f5639835e62",
   "metadata": {},
   "outputs": [
    {
     "name": "stdin",
     "output_type": "stream",
     "text": [
      "Enter numbers separated by space:  5 8 7 9 5 6 3 2 1 2 1 2\n"
     ]
    },
    {
     "name": "stdout",
     "output_type": "stream",
     "text": [
      "Unique elements: [5, 8, 7, 9, 6, 3, 2, 1]\n"
     ]
    }
   ],
   "source": [
    "def unique_elements():\n",
    "    lst = list(map(int, input(\"Enter numbers separated by space: \").split()))\n",
    "    unique_lst = []\n",
    "    for num in lst:\n",
    "        if num not in unique_lst:\n",
    "            unique_lst.append(num)\n",
    "    print(\"Unique elements:\", unique_lst)\n",
    "\n",
    "unique_elements()"
   ]
  },
  {
   "cell_type": "markdown",
   "id": "562e07f6-e7c2-435d-850c-139ce0394d0d",
   "metadata": {},
   "source": [
    "f11: palindrome"
   ]
  },
  {
   "cell_type": "code",
   "execution_count": 23,
   "id": "bb411332-bc0c-4045-88ed-207c5787a4d1",
   "metadata": {},
   "outputs": [
    {
     "name": "stdin",
     "output_type": "stream",
     "text": [
      "Enter a word or phrase:  wow\n"
     ]
    },
    {
     "name": "stdout",
     "output_type": "stream",
     "text": [
      "it's a palindrome!\n"
     ]
    }
   ],
   "source": [
    "def is_palindrome():\n",
    "    s = input(\"Enter a word or phrase: \").replace(\" \", \"\").lower()\n",
    "    if s == s[::-1]:\n",
    "        print(\"it's a palindrome!\")\n",
    "    else:\n",
    "        print(\"not a palindrome:(\")\n",
    "is_palindrome()"
   ]
  },
  {
   "cell_type": "markdown",
   "id": "3b01dbbb-6487-4100-bb66-ab474ddeb62a",
   "metadata": {},
   "source": [
    "f12: print a histogram"
   ]
  },
  {
   "cell_type": "code",
   "execution_count": 25,
   "id": "e4dea6ce-aa73-4975-97c1-ce6c4364c6f2",
   "metadata": {},
   "outputs": [
    {
     "name": "stdin",
     "output_type": "stream",
     "text": [
      "Enter numbers separated by space:  5 4 3 2 1\n"
     ]
    },
    {
     "name": "stdout",
     "output_type": "stream",
     "text": [
      "*****\n",
      "****\n",
      "***\n",
      "**\n",
      "*\n"
     ]
    }
   ],
   "source": [
    "def histogram():\n",
    "    nums = list(map(int, input(\"Enter numbers separated by space: \").split()))\n",
    "    for num in nums:\n",
    "        print('*' * num)\n",
    "histogram()"
   ]
  },
  {
   "cell_type": "markdown",
   "id": "b7b3c53d-badd-49bd-a386-04673db3f754",
   "metadata": {},
   "source": [
    "f13: game \"guess the number\""
   ]
  },
  {
   "cell_type": "code",
   "execution_count": 27,
   "id": "a91b7c1b-6dae-4140-90fb-5a1d9c70be40",
   "metadata": {},
   "outputs": [
    {
     "name": "stdin",
     "output_type": "stream",
     "text": [
      "Hello! What is your name?  Saltanat\n"
     ]
    },
    {
     "name": "stdout",
     "output_type": "stream",
     "text": [
      "Well, Saltanat, I am thinking of a number between 1 and 20. Try to guess it!\n"
     ]
    },
    {
     "name": "stdin",
     "output_type": "stream",
     "text": [
      "Take a guess:  5\n"
     ]
    },
    {
     "name": "stdout",
     "output_type": "stream",
     "text": [
      "Your guess is too low.\n"
     ]
    },
    {
     "name": "stdin",
     "output_type": "stream",
     "text": [
      "Take a guess:  15\n"
     ]
    },
    {
     "name": "stdout",
     "output_type": "stream",
     "text": [
      "Your guess is too low.\n"
     ]
    },
    {
     "name": "stdin",
     "output_type": "stream",
     "text": [
      "Take a guess:  18\n"
     ]
    },
    {
     "name": "stdout",
     "output_type": "stream",
     "text": [
      "Your guess is too low.\n"
     ]
    },
    {
     "name": "stdin",
     "output_type": "stream",
     "text": [
      "Take a guess:  19\n"
     ]
    },
    {
     "name": "stdout",
     "output_type": "stream",
     "text": [
      "Good job, Saltanat! You guessed my number in 4 guesses!\n"
     ]
    }
   ],
   "source": [
    "import random\n",
    "\n",
    "def guess_the_number():\n",
    "    name = input(\"Hello! What is your name? \")\n",
    "    number = random.randint(1, 20)\n",
    "    attempts = 0\n",
    "\n",
    "    print(f\"Well, {name}, I am thinking of a number between 1 and 20. Try to guess it!\")\n",
    "\n",
    "    while True:\n",
    "        guess = int(input(\"Take a guess: \"))\n",
    "        attempts += 1\n",
    "\n",
    "        if guess < number:\n",
    "            print(\"Your guess is too low.\")\n",
    "        elif guess > number:\n",
    "            print(\"Your guess is too high.\")\n",
    "        else:\n",
    "            print(f\"Good job, {name}! You guessed my number in {attempts} guesses!\")\n",
    "            break\n",
    "\n",
    "guess_the_number()"
   ]
  }
 ],
 "metadata": {
  "kernelspec": {
   "display_name": "Python [conda env:base] *",
   "language": "python",
   "name": "conda-base-py"
  },
  "language_info": {
   "codemirror_mode": {
    "name": "ipython",
    "version": 3
   },
   "file_extension": ".py",
   "mimetype": "text/x-python",
   "name": "python",
   "nbconvert_exporter": "python",
   "pygments_lexer": "ipython3",
   "version": "3.12.7"
  }
 },
 "nbformat": 4,
 "nbformat_minor": 5
}
